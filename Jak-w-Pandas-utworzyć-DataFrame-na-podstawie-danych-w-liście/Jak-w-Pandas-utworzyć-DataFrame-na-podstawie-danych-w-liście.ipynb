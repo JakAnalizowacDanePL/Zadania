{
 "cells": [
  {
   "cell_type": "markdown",
   "id": "funny-irrigation",
   "metadata": {},
   "source": [
    "# Zadania do postu Jak w Pandas utworzyć DataFrame na podstawie danych w liście"
   ]
  },
  {
   "cell_type": "markdown",
   "id": "insured-orleans",
   "metadata": {},
   "source": [
    "## Zadanie 1"
   ]
  },
  {
   "cell_type": "markdown",
   "id": "declared-marina",
   "metadata": {},
   "source": [
    "Wczytaj bibliotekę Pandas"
   ]
  },
  {
   "cell_type": "code",
   "execution_count": null,
   "id": "wireless-anger",
   "metadata": {},
   "outputs": [],
   "source": []
  },
  {
   "cell_type": "markdown",
   "id": "vietnamese-polymer",
   "metadata": {},
   "source": [
    "## Zadanie 2"
   ]
  },
  {
   "cell_type": "markdown",
   "id": "selected-termination",
   "metadata": {},
   "source": [
    "Zdefiniuj własną listę tak, aby zawierała kilka wierszy danych. Możesz wykorzystać do tego listę, tuple lub Dictionary. Przypisz listę do zmiennej **dane**."
   ]
  },
  {
   "cell_type": "code",
   "execution_count": 2,
   "id": "illegal-handbook",
   "metadata": {},
   "outputs": [],
   "source": [
    "dane=[]"
   ]
  },
  {
   "cell_type": "markdown",
   "id": "diagnostic-mixer",
   "metadata": {},
   "source": [
    "## Zadanie 3"
   ]
  },
  {
   "cell_type": "markdown",
   "id": "disciplinary-capital",
   "metadata": {},
   "source": [
    "Utwórz DataFrame na podstawie danych zapisanych w zmiennej **dane**"
   ]
  },
  {
   "cell_type": "code",
   "execution_count": null,
   "id": "revolutionary-assist",
   "metadata": {},
   "outputs": [],
   "source": []
  },
  {
   "cell_type": "markdown",
   "id": "immune-arthur",
   "metadata": {},
   "source": [
    "## Zadanie 4"
   ]
  },
  {
   "cell_type": "markdown",
   "id": "trying-cheat",
   "metadata": {},
   "source": [
    "Zapisz dane z DataFrame do arkusza Excela"
   ]
  },
  {
   "cell_type": "code",
   "execution_count": null,
   "id": "competitive-export",
   "metadata": {},
   "outputs": [],
   "source": []
  },
  {
   "cell_type": "markdown",
   "id": "portable-protein",
   "metadata": {},
   "source": [
    "## Zadanie 5"
   ]
  },
  {
   "cell_type": "markdown",
   "id": "modular-wesley",
   "metadata": {},
   "source": [
    "Zapisz dane z DataFrame do pliku JSON"
   ]
  },
  {
   "cell_type": "code",
   "execution_count": null,
   "id": "african-summit",
   "metadata": {},
   "outputs": [],
   "source": []
  },
  {
   "cell_type": "markdown",
   "id": "weighted-television",
   "metadata": {},
   "source": [
    "# Uwaga"
   ]
  },
  {
   "cell_type": "markdown",
   "id": "latin-angle",
   "metadata": {},
   "source": [
    "Jak masz ochotę wykonaj powyższe zadania z wykorzystaniem kolejnych struktur tak, abyś przećwiczył wszystkie struktury z artykułu. Nauka programowania to przede wszystkich praktyka, praktyka, praktyka."
   ]
  },
  {
   "cell_type": "code",
   "execution_count": null,
   "id": "boolean-amino",
   "metadata": {},
   "outputs": [],
   "source": []
  }
 ],
 "metadata": {
  "kernelspec": {
   "display_name": "Python 3",
   "language": "python",
   "name": "python3"
  },
  "language_info": {
   "codemirror_mode": {
    "name": "ipython",
    "version": 3
   },
   "file_extension": ".py",
   "mimetype": "text/x-python",
   "name": "python",
   "nbconvert_exporter": "python",
   "pygments_lexer": "ipython3",
   "version": "3.8.5"
  }
 },
 "nbformat": 4,
 "nbformat_minor": 5
}
