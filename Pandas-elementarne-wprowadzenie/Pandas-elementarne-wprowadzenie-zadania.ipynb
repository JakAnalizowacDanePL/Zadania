{
 "cells": [
  {
   "cell_type": "markdown",
   "id": "tracked-conviction",
   "metadata": {},
   "source": [
    "[![Open In Colab](https://colab.research.google.com/assets/colab-badge.svg)](https://colab.research.google.com/github/JakAnalizowacDanePL/Zadania/blob/main/Pandas-elementarne-wprowadzenie/Pandas-elementarne-wprowadzenie-zadania.ipynb)"
   ]
  },
  {
   "cell_type": "markdown",
   "id": "naked-montana",
   "metadata": {},
   "source": [
    "# Pandas - elementarne wprowadzenie - zadania do samodzielnego wykonania"
   ]
  },
  {
   "cell_type": "markdown",
   "id": "earlier-accountability",
   "metadata": {},
   "source": [
    "Pobranie danych do analizy (informacje o zestawach klocków Lego) ze strony [rebrickable.com](https://rebrickable.com/downloads/) (plik sets.csv.gz). \n",
    "\n",
    "**Uruchom komórkę poniżej przed przejściem do Zadanie 1**"
   ]
  },
  {
   "cell_type": "code",
   "execution_count": null,
   "id": "worldwide-translator",
   "metadata": {},
   "outputs": [],
   "source": [
    "import gzip\n",
    "import shutil\n",
    "\n",
    "!wget https://cdn.rebrickable.com/media/downloads/sets.csv.gz\n",
    "#!gzip -d sets.csv.gz\n",
    "\n",
    "with open(\"sets.csv\", 'wb') as f_csv:\n",
    "    with gzip.open('sets.csv.gz', 'rb') as f_zip:\n",
    "        shutil.copyfileobj(f_zip, f_csv)"
   ]
  },
  {
   "cell_type": "markdown",
   "id": "italic-muslim",
   "metadata": {},
   "source": [
    "## Zadanie 1"
   ]
  },
  {
   "cell_type": "markdown",
   "id": "frequent-murray",
   "metadata": {},
   "source": [
    "Wczytaj dane z pobranego wcześniej pliku **sets.csv** do DataFrame **df** tak, aby wartości kolumny **set_num** stanowiły indeks"
   ]
  },
  {
   "cell_type": "code",
   "execution_count": null,
   "id": "accessory-plenty",
   "metadata": {},
   "outputs": [],
   "source": []
  },
  {
   "cell_type": "markdown",
   "id": "paperback-jacksonville",
   "metadata": {},
   "source": [
    "Sprawdź rozmiar danych w DataFrame"
   ]
  },
  {
   "cell_type": "code",
   "execution_count": null,
   "id": "intellectual-trouble",
   "metadata": {},
   "outputs": [],
   "source": []
  },
  {
   "cell_type": "markdown",
   "id": "narrow-belle",
   "metadata": {},
   "source": [
    "Wyświetl kilka pierwszych wierszy DataFrame"
   ]
  },
  {
   "cell_type": "code",
   "execution_count": null,
   "id": "basic-suffering",
   "metadata": {},
   "outputs": [],
   "source": []
  },
  {
   "cell_type": "markdown",
   "id": "according-makeup",
   "metadata": {},
   "source": [
    "Wyświetl kilka ostatnich wierszy DataFrame"
   ]
  },
  {
   "cell_type": "code",
   "execution_count": null,
   "id": "rocky-swift",
   "metadata": {},
   "outputs": [],
   "source": []
  },
  {
   "cell_type": "markdown",
   "id": "missing-context",
   "metadata": {},
   "source": [
    "## Zadanie 2"
   ]
  },
  {
   "cell_type": "markdown",
   "id": "younger-design",
   "metadata": {},
   "source": [
    "Wyświetl wykres prezentujący dane z DataFrame **df** tak aby każda kolumna była pokazana na osobnym wykresie"
   ]
  },
  {
   "cell_type": "code",
   "execution_count": null,
   "id": "least-albuquerque",
   "metadata": {},
   "outputs": [],
   "source": []
  },
  {
   "cell_type": "markdown",
   "id": "geographic-panama",
   "metadata": {},
   "source": [
    "## Zadanie 3"
   ]
  },
  {
   "cell_type": "markdown",
   "id": "above-damages",
   "metadata": {},
   "source": [
    "Wyświetl 4 wiersz DataFrame **df**"
   ]
  },
  {
   "cell_type": "code",
   "execution_count": null,
   "id": "marked-regular",
   "metadata": {},
   "outputs": [],
   "source": []
  },
  {
   "cell_type": "markdown",
   "id": "declared-venice",
   "metadata": {},
   "source": [
    "## Zadanie 4"
   ]
  },
  {
   "cell_type": "markdown",
   "id": "binary-level",
   "metadata": {},
   "source": [
    "Wylicz ile różnych zestawów klocków było produktowanych w poszczególnych latach"
   ]
  },
  {
   "cell_type": "code",
   "execution_count": null,
   "id": "drawn-strap",
   "metadata": {},
   "outputs": [],
   "source": []
  },
  {
   "cell_type": "markdown",
   "id": "recent-hundred",
   "metadata": {},
   "source": [
    "Wyświetl wykres prezentujący zmiany liczby zestawów klocków produktowanych w poszczególnych latach"
   ]
  },
  {
   "cell_type": "code",
   "execution_count": null,
   "id": "olympic-corruption",
   "metadata": {},
   "outputs": [],
   "source": []
  },
  {
   "cell_type": "markdown",
   "id": "excess-ceiling",
   "metadata": {},
   "source": [
    "## Zadanie 5"
   ]
  },
  {
   "cell_type": "markdown",
   "id": "arctic-monroe",
   "metadata": {},
   "source": [
    "Teraz kolej na Ciebie, jaką operację chciałbyś wykonać za pomocą Pandas na dostępnych danych? Pobaw się po prostu tym czego się nauczyłeś z artykułu na blogu. Nie obawiaj się ekepreymentować. Jak ci coś nie zadziała to też czegoś się nauczysz. Powodzenia :-) "
   ]
  },
  {
   "cell_type": "code",
   "execution_count": null,
   "id": "outstanding-portal",
   "metadata": {},
   "outputs": [],
   "source": []
  }
 ],
 "metadata": {
  "kernelspec": {
   "display_name": "Python 3",
   "language": "python",
   "name": "python3"
  },
  "language_info": {
   "codemirror_mode": {
    "name": "ipython",
    "version": 3
   },
   "file_extension": ".py",
   "mimetype": "text/x-python",
   "name": "python",
   "nbconvert_exporter": "python",
   "pygments_lexer": "ipython3",
   "version": "3.8.5"
  }
 },
 "nbformat": 4,
 "nbformat_minor": 5
}
