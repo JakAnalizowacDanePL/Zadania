{
 "cells": [
  {
   "cell_type": "markdown",
   "id": "monthly-object",
   "metadata": {},
   "source": [
    "# Zadania do postu Jak stworzyć własny dataset z wykorzystaniem Pandas "
   ]
  },
  {
   "cell_type": "markdown",
   "id": "supported-evidence",
   "metadata": {},
   "source": [
    "## Zadanie 1"
   ]
  },
  {
   "cell_type": "markdown",
   "id": "cognitive-thailand",
   "metadata": {},
   "source": [
    "Wczytaj bibliotekę Pandas"
   ]
  },
  {
   "cell_type": "code",
   "execution_count": null,
   "id": "independent-calculation",
   "metadata": {},
   "outputs": [],
   "source": []
  },
  {
   "cell_type": "markdown",
   "id": "negative-girlfriend",
   "metadata": {},
   "source": [
    "## Zadanie 2"
   ]
  },
  {
   "cell_type": "markdown",
   "id": "annoying-lease",
   "metadata": {},
   "source": [
    "Zdefiniuj własną listę tak, aby zawierała kilka wierszy danych. Możesz wykorzystać do tego listę, tuple lub Dictionary. Przypisz listę do zmiennej **dane**."
   ]
  },
  {
   "cell_type": "code",
   "execution_count": 2,
   "id": "elegant-transition",
   "metadata": {},
   "outputs": [],
   "source": [
    "dane=[]"
   ]
  },
  {
   "cell_type": "markdown",
   "id": "homeless-object",
   "metadata": {},
   "source": [
    "## Zadanie 3"
   ]
  },
  {
   "cell_type": "markdown",
   "id": "generous-pickup",
   "metadata": {},
   "source": [
    "Utwórz DataFrame na podstawie danych zapisanych w zmiennej **dane**"
   ]
  },
  {
   "cell_type": "code",
   "execution_count": null,
   "id": "double-candy",
   "metadata": {},
   "outputs": [],
   "source": []
  },
  {
   "cell_type": "markdown",
   "id": "nervous-might",
   "metadata": {},
   "source": [
    "## Zadanie 4"
   ]
  },
  {
   "cell_type": "markdown",
   "id": "democratic-explosion",
   "metadata": {},
   "source": [
    "Zapisz dane z DataFrame do arkusza Excela"
   ]
  },
  {
   "cell_type": "code",
   "execution_count": null,
   "id": "decreased-warehouse",
   "metadata": {},
   "outputs": [],
   "source": []
  },
  {
   "cell_type": "markdown",
   "id": "elegant-hygiene",
   "metadata": {},
   "source": [
    "## Zadanie 5"
   ]
  },
  {
   "cell_type": "markdown",
   "id": "virtual-prime",
   "metadata": {},
   "source": [
    "Zapisz dane z DataFrame do pliku JSON"
   ]
  },
  {
   "cell_type": "code",
   "execution_count": null,
   "id": "thirty-victor",
   "metadata": {},
   "outputs": [],
   "source": []
  },
  {
   "cell_type": "markdown",
   "id": "ongoing-construction",
   "metadata": {},
   "source": [
    "# Uwaga"
   ]
  },
  {
   "cell_type": "markdown",
   "id": "accomplished-sector",
   "metadata": {},
   "source": [
    "Jak masz ochotę wykonaj powyższe zadania z wykorzystaniem kolejnych struktur tak, abyś przećwiczył wszystkie struktury z artykułu. Nauka programowania to przede wszystkich praktyka, praktyka, praktyka."
   ]
  },
  {
   "cell_type": "code",
   "execution_count": null,
   "id": "several-reader",
   "metadata": {},
   "outputs": [],
   "source": []
  }
 ],
 "metadata": {
  "kernelspec": {
   "display_name": "Python 3",
   "language": "python",
   "name": "python3"
  },
  "language_info": {
   "codemirror_mode": {
    "name": "ipython",
    "version": 3
   },
   "file_extension": ".py",
   "mimetype": "text/x-python",
   "name": "python",
   "nbconvert_exporter": "python",
   "pygments_lexer": "ipython3",
   "version": "3.8.5"
  }
 },
 "nbformat": 4,
 "nbformat_minor": 5
}
