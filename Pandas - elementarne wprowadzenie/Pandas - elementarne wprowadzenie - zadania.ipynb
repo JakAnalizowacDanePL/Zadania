{
 "cells": [
  {
   "cell_type": "markdown",
   "id": "enclosed-drove",
   "metadata": {},
   "source": [
    "[![Open In Colab](https://colab.research.google.com/assets/colab-badge.svg)](https://colab.research.google.com/github/googlecolab/colabtools/blob/master/notebooks/colab-github-demo.ipynb)"
   ]
  },
  {
   "cell_type": "markdown",
   "id": "flush-nudist",
   "metadata": {},
   "source": [
    "# Pandas - elementarne wprowadzenie - zadania do samodzielnego wykonania"
   ]
  },
  {
   "cell_type": "markdown",
   "id": "thrown-conjunction",
   "metadata": {},
   "source": [
    "Pobranie danych do analizy (informacje o zestawach klocków Lego) ze strony [rebrickable.com](https://rebrickable.com/downloads/) (plik sets.csv.gz). \n",
    "\n",
    "**Uruchom komórkę poniżej przed przejściem do Zadanie 1**"
   ]
  },
  {
   "cell_type": "code",
   "execution_count": null,
   "id": "minute-nothing",
   "metadata": {},
   "outputs": [],
   "source": [
    "import gzip\n",
    "import shutil\n",
    "\n",
    "!wget https://cdn.rebrickable.com/media/downloads/sets.csv.gz\n",
    "#!gzip -d sets.csv.gz\n",
    "\n",
    "with open(\"sets.csv\", 'wb') as f_csv:\n",
    "    with gzip.open('sets.csv.gz', 'rb') as f_zip:\n",
    "        shutil.copyfileobj(f_zip, f_csv)"
   ]
  },
  {
   "cell_type": "markdown",
   "id": "reasonable-pleasure",
   "metadata": {},
   "source": [
    "## Zadanie 1"
   ]
  },
  {
   "cell_type": "markdown",
   "id": "underlying-intensity",
   "metadata": {},
   "source": [
    "Wczytaj dane z pobranego wcześniej pliku **sets.csv** do DataFrame **df** tak, aby wartości kolumny **set_num** stanowiły indeks"
   ]
  },
  {
   "cell_type": "code",
   "execution_count": null,
   "id": "strong-reliance",
   "metadata": {},
   "outputs": [],
   "source": []
  },
  {
   "cell_type": "markdown",
   "id": "offshore-directory",
   "metadata": {},
   "source": [
    "Sprawdź rozmiar danych w DataFrame"
   ]
  },
  {
   "cell_type": "code",
   "execution_count": null,
   "id": "dimensional-cooling",
   "metadata": {},
   "outputs": [],
   "source": []
  },
  {
   "cell_type": "markdown",
   "id": "royal-ultimate",
   "metadata": {},
   "source": [
    "Wyświetl kilka pierwszych wierszy DataFrame"
   ]
  },
  {
   "cell_type": "code",
   "execution_count": null,
   "id": "portuguese-investing",
   "metadata": {},
   "outputs": [],
   "source": []
  },
  {
   "cell_type": "markdown",
   "id": "danish-division",
   "metadata": {},
   "source": [
    "Wyświetl kilka ostatnich wierszy DataFrame"
   ]
  },
  {
   "cell_type": "code",
   "execution_count": null,
   "id": "regular-reconstruction",
   "metadata": {},
   "outputs": [],
   "source": []
  },
  {
   "cell_type": "markdown",
   "id": "digital-blend",
   "metadata": {},
   "source": [
    "## Zadanie 2"
   ]
  },
  {
   "cell_type": "markdown",
   "id": "pending-mountain",
   "metadata": {},
   "source": [
    "Wyświetl wykres prezentujący dane z DataFrame **df** tak aby każda kolumna była pokazana na osobnym wykresie"
   ]
  },
  {
   "cell_type": "code",
   "execution_count": null,
   "id": "acceptable-immune",
   "metadata": {},
   "outputs": [],
   "source": []
  },
  {
   "cell_type": "markdown",
   "id": "assured-floating",
   "metadata": {},
   "source": [
    "## Zadanie 3"
   ]
  },
  {
   "cell_type": "markdown",
   "id": "portuguese-retrieval",
   "metadata": {},
   "source": [
    "Wyświetl 4 wiersz DataFrame **df**"
   ]
  },
  {
   "cell_type": "code",
   "execution_count": null,
   "id": "dominican-david",
   "metadata": {},
   "outputs": [],
   "source": []
  },
  {
   "cell_type": "markdown",
   "id": "extreme-storm",
   "metadata": {},
   "source": [
    "## Zadanie 4"
   ]
  },
  {
   "cell_type": "markdown",
   "id": "adverse-market",
   "metadata": {},
   "source": [
    "Wylicz ile różnych zestawów klocków było produktowanych w poszczególnych latach"
   ]
  },
  {
   "cell_type": "code",
   "execution_count": null,
   "id": "attended-primary",
   "metadata": {},
   "outputs": [],
   "source": []
  },
  {
   "cell_type": "markdown",
   "id": "spatial-amino",
   "metadata": {},
   "source": [
    "Wyświetl wykres prezentujący zmiany liczby zestawów klocków produktowanych w poszczególnych latach"
   ]
  },
  {
   "cell_type": "code",
   "execution_count": null,
   "id": "agricultural-emphasis",
   "metadata": {},
   "outputs": [],
   "source": []
  },
  {
   "cell_type": "markdown",
   "id": "ideal-spoke",
   "metadata": {},
   "source": [
    "## Zadanie 5"
   ]
  },
  {
   "cell_type": "markdown",
   "id": "interesting-empire",
   "metadata": {},
   "source": [
    "Teraz kolej na Ciebie, jaką operację chciałbyś wykonać za pomocą Pandas na dostępnych danych? Pobaw się po prostu tym czego się nauczyłeś z artykułu na blogu. Nie obawiaj się ekepreymentować. Jak ci coś nie zadziała to też czegoś się nauczysz. Powodzenia :-) "
   ]
  },
  {
   "cell_type": "code",
   "execution_count": null,
   "id": "surrounded-launch",
   "metadata": {},
   "outputs": [],
   "source": []
  }
 ],
 "metadata": {
  "kernelspec": {
   "display_name": "Python 3",
   "language": "python",
   "name": "python3"
  },
  "language_info": {
   "codemirror_mode": {
    "name": "ipython",
    "version": 3
   },
   "file_extension": ".py",
   "mimetype": "text/x-python",
   "name": "python",
   "nbconvert_exporter": "python",
   "pygments_lexer": "ipython3",
   "version": "3.8.5"
  }
 },
 "nbformat": 4,
 "nbformat_minor": 5
}
