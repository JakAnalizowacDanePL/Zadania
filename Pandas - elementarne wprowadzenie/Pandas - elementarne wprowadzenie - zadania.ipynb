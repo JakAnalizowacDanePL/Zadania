{
 "cells": [
  {
   "cell_type": "markdown",
   "id": "touched-flush",
   "metadata": {},
   "source": [
    "# Pandas - elementarne wprowadzenie - zadania do samodzielnego wykonania"
   ]
  },
  {
   "cell_type": "markdown",
   "id": "talented-sarah",
   "metadata": {},
   "source": [
    "Pobranie danych do analizy (informacje o zestawach klocków Lego) ze strony [rebrickable.com](https://rebrickable.com/downloads/) (plik sets.csv.gz). \n",
    "\n",
    "**Uruchom komórkę poniżej przed przejściem do Zadanie 1**"
   ]
  },
  {
   "cell_type": "code",
   "execution_count": null,
   "id": "exterior-construction",
   "metadata": {},
   "outputs": [],
   "source": [
    "import gzip\n",
    "import shutil\n",
    "\n",
    "!wget https://cdn.rebrickable.com/media/downloads/sets.csv.gz\n",
    "#!gzip -d sets.csv.gz\n",
    "\n",
    "with open(\"sets.csv\", 'wb') as f_csv:\n",
    "    with gzip.open('sets.csv.gz', 'rb') as f_zip:\n",
    "        shutil.copyfileobj(f_zip, f_csv)"
   ]
  },
  {
   "cell_type": "markdown",
   "id": "conservative-thirty",
   "metadata": {},
   "source": [
    "## Zadanie 1"
   ]
  },
  {
   "cell_type": "markdown",
   "id": "interested-wichita",
   "metadata": {},
   "source": [
    "Wczytaj dane z pobranego wcześniej pliku **sets.csv** do DataFrame **df** tak, aby wartości kolumny **set_num** stanowiły indeks"
   ]
  },
  {
   "cell_type": "code",
   "execution_count": null,
   "id": "smaller-commonwealth",
   "metadata": {},
   "outputs": [],
   "source": []
  },
  {
   "cell_type": "markdown",
   "id": "treated-analyst",
   "metadata": {},
   "source": [
    "Sprawdź rozmiar danych w DataFrame"
   ]
  },
  {
   "cell_type": "code",
   "execution_count": null,
   "id": "frequent-desperate",
   "metadata": {},
   "outputs": [],
   "source": []
  },
  {
   "cell_type": "markdown",
   "id": "becoming-focus",
   "metadata": {},
   "source": [
    "Wyświetl kilka pierwszych wierszy DataFrame"
   ]
  },
  {
   "cell_type": "code",
   "execution_count": null,
   "id": "enclosed-shaft",
   "metadata": {},
   "outputs": [],
   "source": []
  },
  {
   "cell_type": "markdown",
   "id": "eight-washer",
   "metadata": {},
   "source": [
    "Wyświetl kilka ostatnich wierszy DataFrame"
   ]
  },
  {
   "cell_type": "code",
   "execution_count": null,
   "id": "phantom-offer",
   "metadata": {},
   "outputs": [],
   "source": []
  },
  {
   "cell_type": "markdown",
   "id": "fifteen-province",
   "metadata": {},
   "source": [
    "## Zadanie 2"
   ]
  },
  {
   "cell_type": "markdown",
   "id": "purple-california",
   "metadata": {},
   "source": [
    "Wyświetl wykres prezentujący dane z DataFrame **df** tak aby każda kolumna była pokazana na osobnym wykresie"
   ]
  },
  {
   "cell_type": "code",
   "execution_count": null,
   "id": "confused-colonial",
   "metadata": {},
   "outputs": [],
   "source": []
  },
  {
   "cell_type": "markdown",
   "id": "particular-honolulu",
   "metadata": {},
   "source": [
    "## Zadanie 3"
   ]
  },
  {
   "cell_type": "markdown",
   "id": "comprehensive-rubber",
   "metadata": {},
   "source": [
    "Wyświetl 4 wiersz DataFrame **df**"
   ]
  },
  {
   "cell_type": "code",
   "execution_count": null,
   "id": "meaningful-assault",
   "metadata": {},
   "outputs": [],
   "source": []
  },
  {
   "cell_type": "markdown",
   "id": "false-underground",
   "metadata": {},
   "source": [
    "## Zadanie 4"
   ]
  },
  {
   "cell_type": "markdown",
   "id": "vital-ferry",
   "metadata": {},
   "source": [
    "Wylicz ile różnych zestawów klocków było produktowanych w poszczególnych latach"
   ]
  },
  {
   "cell_type": "code",
   "execution_count": null,
   "id": "racial-scanner",
   "metadata": {},
   "outputs": [],
   "source": []
  },
  {
   "cell_type": "markdown",
   "id": "breeding-herald",
   "metadata": {},
   "source": [
    "Wyświetl wykres prezentujący zmiany liczby zestawów klocków produktowanych w poszczególnych latach"
   ]
  },
  {
   "cell_type": "code",
   "execution_count": null,
   "id": "horizontal-sponsorship",
   "metadata": {},
   "outputs": [],
   "source": []
  },
  {
   "cell_type": "markdown",
   "id": "reserved-honduras",
   "metadata": {},
   "source": [
    "## Zadanie 5"
   ]
  },
  {
   "cell_type": "markdown",
   "id": "sudden-filing",
   "metadata": {},
   "source": [
    "Teraz kolej na Ciebie, jaką operację chciałbyś wykonać za pomocą Pandas na dostępnych danych? Pobaw się po prostu tym czego się nauczyłeś z artykułu na blogu. Nie obawiaj się ekepreymentować. Jak ci coś nie zadziała to też czegoś się nauczysz. Powodzenia :-) "
   ]
  },
  {
   "cell_type": "code",
   "execution_count": null,
   "id": "increasing-potential",
   "metadata": {},
   "outputs": [],
   "source": []
  }
 ],
 "metadata": {
  "kernelspec": {
   "display_name": "Python 3",
   "language": "python",
   "name": "python3"
  },
  "language_info": {
   "codemirror_mode": {
    "name": "ipython",
    "version": 3
   },
   "file_extension": ".py",
   "mimetype": "text/x-python",
   "name": "python",
   "nbconvert_exporter": "python",
   "pygments_lexer": "ipython3",
   "version": "3.8.5"
  }
 },
 "nbformat": 4,
 "nbformat_minor": 5
}
